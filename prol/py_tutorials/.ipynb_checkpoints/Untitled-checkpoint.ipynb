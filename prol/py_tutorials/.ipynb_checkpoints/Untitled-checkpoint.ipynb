{
 "cells": [
  {
   "cell_type": "code",
   "execution_count": 1,
   "metadata": {},
   "outputs": [],
   "source": [
    "from ngsolve import *\n",
    "from ngsolve.meshes import MakeStructured2DMesh, MakeStructured3DMesh\n",
    "from netgen.csg import * \n",
    "from netgen.geom2d import *\n",
    "import numpy as np\n",
    "from ngsolve.krylovspace import CGSolver\n"
   ]
  },
  {
   "cell_type": "code",
   "execution_count": 19,
   "metadata": {},
   "outputs": [],
   "source": [
    "L, nx = 2, 1\n",
    "mesh0 = MakeStructured3DMesh(hexes=False, nx=L*nx, \n",
    "       ny=nx, nz= nx, mapping = lambda x,y,z : \n",
    "       ((L*x, y, z)))\n",
    "\n",
    "left = Plane(Pnt(0,0,0), Vec(-1,0,0)).bc(\"back\")\n",
    "right = Plane(Pnt(L,0,0), Vec(1,0,0)).bc(\"front\")\n",
    "back = Plane(Pnt(0,0,0), Vec(0,0,-1)).bc(\"neu0\")  # bot \n",
    "front = Plane(Pnt(0,0,1), Vec(0,0,1)).bc(\"neu0\") # top\n",
    "bot = Plane(Pnt(0,0,0), Vec(0,-1,0)).bc(\"neu0\")\n",
    "top = Plane(Pnt(0,1,0), Vec(0,1,0)).bc(\"neu0\")\n",
    "cube = left*right*front*back*bot*top\n",
    "geo = CSGeometry()\n",
    "geo.Add(cube)\n",
    "mesh1 = Mesh(geo.GenerateMesh(maxh=1))\n"
   ]
  },
  {
   "cell_type": "code",
   "execution_count": 20,
   "metadata": {},
   "outputs": [
    {
     "name": "stdout",
     "output_type": "stream",
     "text": [
      "V0 : (0.0, 0.0, 0.0)\n",
      "V1 : (0.0, 0.0, 1.0)\n",
      "V2 : (0.0, 1.0, 0.0)\n",
      "V3 : (0.0, 1.0, 1.0)\n",
      "V4 : (1.0, 0.0, 0.0)\n",
      "V5 : (1.0, 0.0, 1.0)\n",
      "V6 : (1.0, 1.0, 0.0)\n",
      "V7 : (1.0, 1.0, 1.0)\n",
      "V8 : (2.0, 0.0, 0.0)\n",
      "V9 : (2.0, 0.0, 1.0)\n",
      "V10 : (2.0, 1.0, 0.0)\n",
      "V11 : (2.0, 1.0, 1.0)\n",
      "0 : (V0, V4, V5, V7)\n",
      "1 : (V0, V7, V6, V4)\n",
      "2 : (V0, V2, V6, V7)\n",
      "3 : (V0, V1, V7, V5)\n",
      "4 : (V0, V1, V3, V7)\n",
      "5 : (V0, V2, V7, V3)\n",
      "6 : (V4, V8, V9, V11)\n",
      "7 : (V4, V11, V10, V8)\n",
      "8 : (V4, V6, V10, V11)\n",
      "9 : (V4, V5, V11, V9)\n",
      "10 : (V4, V5, V7, V11)\n",
      "11 : (V4, V6, V11, V7)\n"
     ]
    }
   ],
   "source": [
    "for v in mesh0.vertices:\n",
    "    print(v, \":\", v.point)\n",
    "\n",
    "# for v in mesh0.Elements():\n",
    "#     print(v.nr, \":\", v.vertices)"
   ]
  },
  {
   "cell_type": "code",
   "execution_count": 21,
   "metadata": {},
   "outputs": [
    {
     "name": "stdout",
     "output_type": "stream",
     "text": [
      "V0 : (0.0, 0.0, 0.0)\n",
      "V1 : (0.0, 0.0, 1.0)\n",
      "V2 : (0.0, 1.0, 0.0)\n",
      "V3 : (2.0, 0.0, 0.0)\n",
      "V4 : (0.0, 1.0, 1.0)\n",
      "V5 : (2.0, 0.0, 1.0)\n",
      "V6 : (2.0, 1.0, 0.0)\n",
      "V7 : (2.0, 1.0, 1.0)\n",
      "V8 : (0.9999999999999997, 1.0, 1.0)\n",
      "V9 : (0.9999999999999997, 1.0, 0.0)\n",
      "V10 : (0.9999999999999997, 0.0, 0.0)\n",
      "V11 : (1.0, 0.0, 1.0)\n",
      "V12 : (1.5000000016078399, 0.4999999994322286, 0.49999999993550714)\n",
      "0 : (V6, V9, V12, V10)\n",
      "1 : (V0, V2, V8, V4)\n",
      "2 : (V3, V6, V12, V10)\n",
      "3 : (V3, V10, V12, V11)\n",
      "4 : (V0, V2, V9, V8)\n",
      "5 : (V0, V8, V9, V10)\n",
      "6 : (V0, V1, V4, V8)\n",
      "7 : (V3, V5, V11, V12)\n",
      "8 : (V5, V7, V11, V12)\n",
      "9 : (V8, V9, V10, V12)\n",
      "10 : (V0, V1, V8, V10)\n",
      "11 : (V7, V8, V11, V12)\n",
      "12 : (V3, V5, V12, V6)\n",
      "13 : (V5, V6, V7, V12)\n",
      "14 : (V8, V10, V11, V12)\n",
      "15 : (V6, V7, V12, V9)\n",
      "16 : (V7, V8, V12, V9)\n",
      "17 : (V1, V8, V10, V11)\n"
     ]
    }
   ],
   "source": [
    "for v in mesh1.vertices:\n",
    "    print(v, \":\", v.point)\n",
    "\n",
    "# for v in mesh1.Elements():\n",
    "#     print(v.nr, \":\", v.vertices)"
   ]
  },
  {
   "cell_type": "code",
   "execution_count": null,
   "metadata": {},
   "outputs": [],
   "source": []
  }
 ],
 "metadata": {
  "kernelspec": {
   "display_name": "Python 3",
   "language": "python",
   "name": "python3"
  },
  "language_info": {
   "codemirror_mode": {
    "name": "ipython",
    "version": 3
   },
   "file_extension": ".py",
   "mimetype": "text/x-python",
   "name": "python",
   "nbconvert_exporter": "python",
   "pygments_lexer": "ipython3",
   "version": "3.8.5"
  }
 },
 "nbformat": 4,
 "nbformat_minor": 4
}
